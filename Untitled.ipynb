{
 "cells": [
  {
   "cell_type": "code",
   "execution_count": 14,
   "metadata": {
    "collapsed": false
   },
   "outputs": [
    {
     "name": "stdout",
     "output_type": "stream",
     "text": [
      "45.5353396,-122.6616489, | 45.5149331,-122.683103, | 45.5172214,-122.6618163, | 45.5694662,-122.6613858, | 45.6126157,-122.6803138, | 45.5627462,-122.6613718, | 45.5228103,-122.6607178, | 45.5810941,-122.6613286, | \n"
     ]
    }
   ],
   "source": [
    "inpt_list = [(45.5353396, -122.6616489), (45.5149331, -122.683103), (45.5172214, -122.6618163), (45.5694662, -122.6613858), (45.6126157, -122.6803138), (45.5627462, -122.6613718), (45.5228103, -122.6607178), (45.5810941, -122.6613286)]\n",
    "str_coord = \"\"\n",
    "for tuples in inpt_list:\n",
    "    lat_, long_ = tuples\n",
    "    lat_ = str(lat_)\n",
    "    long_ = str(long_)\n",
    "    str_coord += lat_+ \",\" + long_ + \" | \"\n",
    "print(str_coord)"
   ]
  }
 ],
 "metadata": {
  "kernelspec": {
   "display_name": "Python 3",
   "language": "python",
   "name": "python3"
  },
  "language_info": {
   "codemirror_mode": {
    "name": "ipython",
    "version": 3
   },
   "file_extension": ".py",
   "mimetype": "text/x-python",
   "name": "python",
   "nbconvert_exporter": "python",
   "pygments_lexer": "ipython3",
   "version": "3.4.3"
  }
 },
 "nbformat": 4,
 "nbformat_minor": 0
}
